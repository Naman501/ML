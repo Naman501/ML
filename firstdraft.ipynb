{
 "cells": [
  {
   "cell_type": "code",
   "execution_count": 1,
   "id": "b8c1ed6b",
   "metadata": {
    "_cell_guid": "b1076dfc-b9ad-4769-8c92-a6c4dae69d19",
    "_uuid": "8f2839f25d086af736a60e9eeb907d3b93b6e0e5",
    "execution": {
     "iopub.execute_input": "2023-11-12T19:32:41.400759Z",
     "iopub.status.busy": "2023-11-12T19:32:41.399761Z",
     "iopub.status.idle": "2023-11-12T19:32:41.772785Z",
     "shell.execute_reply": "2023-11-12T19:32:41.771907Z"
    },
    "papermill": {
     "duration": 0.3794,
     "end_time": "2023-11-12T19:32:41.775243",
     "exception": false,
     "start_time": "2023-11-12T19:32:41.395843",
     "status": "completed"
    },
    "tags": []
   },
   "outputs": [],
   "source": [
    "# This Python 3 environment comes with many helpful analytics libraries installed\n",
    "# It is defined by the kaggle/python Docker image: https://github.com/kaggle/docker-python\n",
    "# For example, here's several helpful packages to load\n",
    "\n",
    "import numpy as np # linear algebra\n",
    "import pandas as pd # data processing, CSV file I/O (e.g. pd.read_csv)\n",
    "\n",
    "# Input data files are available in the read-only \"../input/\" directory\n",
    "# For example, running this (by clicking run or pressing Shift+Enter) will list all files under the input directory\n",
    "\n",
    "import os\n",
    "for dirname, _, filenames in os.walk('/kaggle/input'):\n",
    "    for filename in filenames:\n",
    "        print(os.path.join(dirname, filename))\n",
    "\n",
    "# You can write up to 20GB to the current directory (/kaggle/working/) that gets preserved as output when you create a version using \"Save & Run All\" \n",
    "# You can also write temporary files to /kaggle/temp/, but they won't be saved outside of the current session"
   ]
  },
  {
   "cell_type": "code",
   "execution_count": 2,
   "id": "ba3a386c",
   "metadata": {
    "execution": {
     "iopub.execute_input": "2023-11-12T19:32:41.782886Z",
     "iopub.status.busy": "2023-11-12T19:32:41.782387Z",
     "iopub.status.idle": "2023-11-12T19:32:41.788128Z",
     "shell.execute_reply": "2023-11-12T19:32:41.787007Z"
    },
    "papermill": {
     "duration": 0.012136,
     "end_time": "2023-11-12T19:32:41.790388",
     "exception": false,
     "start_time": "2023-11-12T19:32:41.778252",
     "status": "completed"
    },
    "tags": []
   },
   "outputs": [
    {
     "name": "stdout",
     "output_type": "stream",
     "text": [
      "12\n"
     ]
    }
   ],
   "source": [
    "x=5\n",
    "y=7\n",
    "print(x+y)\n"
   ]
  },
  {
   "cell_type": "code",
   "execution_count": null,
   "id": "6ef1c581",
   "metadata": {
    "papermill": {
     "duration": 0.001767,
     "end_time": "2023-11-12T19:32:41.794288",
     "exception": false,
     "start_time": "2023-11-12T19:32:41.792521",
     "status": "completed"
    },
    "tags": []
   },
   "outputs": [],
   "source": []
  },
  {
   "cell_type": "markdown",
   "id": "0b1cd623",
   "metadata": {
    "papermill": {
     "duration": 0.00166,
     "end_time": "2023-11-12T19:32:41.797837",
     "exception": false,
     "start_time": "2023-11-12T19:32:41.796177",
     "status": "completed"
    },
    "tags": []
   },
   "source": []
  },
  {
   "cell_type": "code",
   "execution_count": null,
   "id": "85119a02",
   "metadata": {
    "papermill": {
     "duration": 0.001613,
     "end_time": "2023-11-12T19:32:41.801322",
     "exception": false,
     "start_time": "2023-11-12T19:32:41.799709",
     "status": "completed"
    },
    "tags": []
   },
   "outputs": [],
   "source": []
  }
 ],
 "metadata": {
  "kernelspec": {
   "display_name": "Python 3",
   "language": "python",
   "name": "python3"
  },
  "language_info": {
   "codemirror_mode": {
    "name": "ipython",
    "version": 3
   },
   "file_extension": ".py",
   "mimetype": "text/x-python",
   "name": "python",
   "nbconvert_exporter": "python",
   "pygments_lexer": "ipython3",
   "version": "3.10.12"
  },
  "papermill": {
   "default_parameters": {},
   "duration": 3.860049,
   "end_time": "2023-11-12T19:32:42.223204",
   "environment_variables": {},
   "exception": null,
   "input_path": "__notebook__.ipynb",
   "output_path": "__notebook__.ipynb",
   "parameters": {},
   "start_time": "2023-11-12T19:32:38.363155",
   "version": "2.4.0"
  }
 },
 "nbformat": 4,
 "nbformat_minor": 5
}
